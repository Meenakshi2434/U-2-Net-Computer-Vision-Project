{
  "nbformat": 4,
  "nbformat_minor": 0,
  "metadata": {
    "colab": {
      "provenance": [],
      "authorship_tag": "ABX9TyNx4OBFmPTrPDjvjy/1Gytm",
      "include_colab_link": true
    },
    "kernelspec": {
      "name": "python3",
      "display_name": "Python 3"
    },
    "language_info": {
      "name": "python"
    }
  },
  "cells": [
    {
      "cell_type": "markdown",
      "metadata": {
        "id": "view-in-github",
        "colab_type": "text"
      },
      "source": [
        "<a href=\"https://colab.research.google.com/github/Meenakshi2434/U-2-Net-Computer-Vision-Project/blob/main/Inference_script_task1_pth.ipynb\" target=\"_parent\"><img src=\"https://colab.research.google.com/assets/colab-badge.svg\" alt=\"Open In Colab\"/></a>"
      ]
    },
    {
      "cell_type": "code",
      "execution_count": null,
      "metadata": {
        "id": "uTps5wzfl36A"
      },
      "outputs": [],
      "source": [
        "import torch\n",
        "import torch.nn as nn\n",
        "import torchvision.transforms as transforms\n",
        "from PIL import Image\n",
        "import cv2\n",
        "\n",
        "# Define the data transforms (same as the training script)\n",
        "image_transform = transforms.Compose([\n",
        "    transforms.Resize((320, 320)),\n",
        "    transforms.ToTensor(),\n",
        "    transforms.Normalize(mean=[0.485, 0.456, 0.406], std=[0.229, 0.224, 0.225])\n",
        "])\n",
        "\n",
        "# Load the trained model (assuming you have a saved model file)\n",
        "model = U2Net()\n",
        "model.load_state_dict(torch.load('path/to/your/model.pth'))  # Replace with actual path\n",
        "model.eval()  # Set the model to evaluation mode\n",
        "\n",
        "# Define a function to predict mask for a single image\n",
        "def predict_mask(image_path):\n",
        "  # Load the image\n",
        "  image = Image.open(image_path)\n",
        "\n",
        "  # Preprocess the image\n",
        "  image = image_transform(image)\n",
        "\n",
        "  # Add a batch dimension\n",
        "  image = image.unsqueeze(0)\n",
        "\n",
        "  # Move data to device (CPU or GPU)\n",
        "  device = torch.device(\"cuda\" if torch.cuda.is_available() else \"cpu\")\n",
        "  image = image.to(device)\n",
        "\n",
        "  # Predict the mask\n",
        "  with torch.no_grad():\n",
        "    output = model(image)\n",
        "\n",
        "  # Process the predicted mask (e.g., thresholding, removing batch dimension)\n",
        "  predicted_mask = output.squeeze(0).cpu()  # Remove batch dimension and move to CPU\n",
        "  predicted_mask = torch.sigmoid(predicted_mask)  # Apply sigmoid activation for probability\n",
        "  predicted_mask = (predicted_mask > 0.5).float()  # Threshold to get binary mask\n",
        "\n",
        "  return predicted_mask\n",
        "\n",
        "# Example usage\n",
        "image_path = 'path/to/your/image.jpg'  # Replace with your image path\n",
        "predicted_mask = predict_mask(image_path)\n",
        "\n",
        "# You can further process the predicted mask (e.g., convert to NumPy array, visualize)\n",
        "print(f\"Predicted mask shape: {predicted_mask.shape}\")"
      ]
    }
  ]
}